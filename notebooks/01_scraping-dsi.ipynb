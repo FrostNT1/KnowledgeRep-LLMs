{
 "cells": [
  {
   "cell_type": "markdown",
   "metadata": {},
   "source": [
    "# Introduction to Scraping Vanderbilt DSI and Blog Posts\n",
    "<hr>\n",
    "In regards to the README.md, it has proven to be challenging getting the right data from news sources. However, any new data should provide a good base for the same underlying theory of being able to update world knowledge. Therefore, we will instead scrape the Vanderbilt DSI pages and recent blog posts. This approach might prove to be easier than collecting news items and creating ground truth for all of them.\n"
   ]
  },
  {
   "cell_type": "code",
   "execution_count": null,
   "metadata": {},
   "outputs": [],
   "source": []
  }
 ],
 "metadata": {
  "kernelspec": {
   "display_name": "knowledge-llms",
   "language": "python",
   "name": "python3"
  },
  "language_info": {
   "name": "python",
   "version": "3.10.15"
  }
 },
 "nbformat": 4,
 "nbformat_minor": 2
}
