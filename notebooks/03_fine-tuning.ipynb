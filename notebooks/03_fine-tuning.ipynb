{
 "cells": [
  {
   "cell_type": "code",
   "execution_count": 1,
   "metadata": {},
   "outputs": [],
   "source": [
    "# importing libraries\n",
    "import pandas as pd\n",
    "import os\n",
    "from dotenv import load_dotenv\n",
    "\n",
    "# loading environment variables\n",
    "load_dotenv()\n",
    "DATA_PATH = os.getenv('DATA_PATH')"
   ]
  },
  {
   "cell_type": "code",
   "execution_count": 2,
   "metadata": {},
   "outputs": [
    {
     "data": {
      "text/html": [
       "<div>\n",
       "<style scoped>\n",
       "    .dataframe tbody tr th:only-of-type {\n",
       "        vertical-align: middle;\n",
       "    }\n",
       "\n",
       "    .dataframe tbody tr th {\n",
       "        vertical-align: top;\n",
       "    }\n",
       "\n",
       "    .dataframe thead th {\n",
       "        text-align: right;\n",
       "    }\n",
       "</style>\n",
       "<table border=\"1\" class=\"dataframe\">\n",
       "  <thead>\n",
       "    <tr style=\"text-align: right;\">\n",
       "      <th></th>\n",
       "      <th>question</th>\n",
       "      <th>answer</th>\n",
       "    </tr>\n",
       "  </thead>\n",
       "  <tbody>\n",
       "    <tr>\n",
       "      <th>0</th>\n",
       "      <td>During the COVID-19 pandemic, ns and judgment ...</td>\n",
       "      <td>stress loss data and experienced the power of ...</td>\n",
       "    </tr>\n",
       "    <tr>\n",
       "      <th>1</th>\n",
       "      <td>mmons spent the past five years in the Risk Ma...</td>\n",
       "      <td>Sydney Simmons</td>\n",
       "    </tr>\n",
       "    <tr>\n",
       "      <th>2</th>\n",
       "      <td>What is the name of the inaugural recipient of...</td>\n",
       "      <td>Sydney Simmons</td>\n",
       "    </tr>\n",
       "    <tr>\n",
       "      <th>3</th>\n",
       "      <td>Women in Technology of Tennessee (WiTT) is exc...</td>\n",
       "      <td>Sydney Simmons the inaugural recipient of the ...</td>\n",
       "    </tr>\n",
       "    <tr>\n",
       "      <th>4</th>\n",
       "      <td>What is the name of the program at Vanderbilt?</td>\n",
       "      <td>Data Science Master’s ProgramThe data science ...</td>\n",
       "    </tr>\n",
       "  </tbody>\n",
       "</table>\n",
       "</div>"
      ],
      "text/plain": [
       "                                            question  \\\n",
       "0  During the COVID-19 pandemic, ns and judgment ...   \n",
       "1  mmons spent the past five years in the Risk Ma...   \n",
       "2  What is the name of the inaugural recipient of...   \n",
       "3  Women in Technology of Tennessee (WiTT) is exc...   \n",
       "4     What is the name of the program at Vanderbilt?   \n",
       "\n",
       "                                              answer  \n",
       "0  stress loss data and experienced the power of ...  \n",
       "1                                     Sydney Simmons  \n",
       "2                                     Sydney Simmons  \n",
       "3  Sydney Simmons the inaugural recipient of the ...  \n",
       "4  Data Science Master’s ProgramThe data science ...  "
      ]
     },
     "execution_count": 2,
     "metadata": {},
     "output_type": "execute_result"
    }
   ],
   "source": [
    "# loading data\n",
    "df = pd.read_parquet(os.path.join(DATA_PATH, '../processed/dsi-qa-pairs.parquet'))\n",
    "df.head()"
   ]
  },
  {
   "cell_type": "code",
   "execution_count": 3,
   "metadata": {},
   "outputs": [],
   "source": [
    "from datasets import Dataset\n",
    "\n",
    "# Format the data\n",
    "def format_conversation(row):\n",
    "    return [\n",
    "        {\"role\": \"system\", \"content\": \"You are an assistant.\"},\n",
    "        {\"role\": \"user\", \"content\": row[\"question\"]},\n",
    "        {\"role\": \"assistant\", \"content\": row[\"answer\"]},\n",
    "    ]\n",
    "\n",
    "df[\"conversations\"] = df.apply(format_conversation, axis=1)\n",
    "\n",
    "# Convert to Hugging Face Dataset\n",
    "dataset = Dataset.from_pandas(df[[\"conversations\"]])\n"
   ]
  },
  {
   "cell_type": "code",
   "execution_count": 4,
   "metadata": {},
   "outputs": [
    {
     "data": {
      "application/vnd.jupyter.widget-view+json": {
       "model_id": "69e62db6f0b44cd082b3aebd1becb1ce",
       "version_major": 2,
       "version_minor": 0
      },
      "text/plain": [
       "Saving the dataset (0/1 shards):   0%|          | 0/581 [00:00<?, ? examples/s]"
      ]
     },
     "metadata": {},
     "output_type": "display_data"
    }
   ],
   "source": [
    "dataset.save_to_disk(os.path.join(DATA_PATH, '../processed/dsi-qa-pairs-instruct.hf'))"
   ]
  },
  {
   "cell_type": "markdown",
   "metadata": {},
   "source": [
    "### Using ChatGPT generated data\n"
   ]
  },
  {
   "cell_type": "code",
   "execution_count": 2,
   "metadata": {},
   "outputs": [
    {
     "data": {
      "text/html": [
       "<div>\n",
       "<style scoped>\n",
       "    .dataframe tbody tr th:only-of-type {\n",
       "        vertical-align: middle;\n",
       "    }\n",
       "\n",
       "    .dataframe tbody tr th {\n",
       "        vertical-align: top;\n",
       "    }\n",
       "\n",
       "    .dataframe thead th {\n",
       "        text-align: right;\n",
       "    }\n",
       "</style>\n",
       "<table border=\"1\" class=\"dataframe\">\n",
       "  <thead>\n",
       "    <tr style=\"text-align: right;\">\n",
       "      <th></th>\n",
       "      <th>topic</th>\n",
       "      <th>question</th>\n",
       "      <th>answer</th>\n",
       "    </tr>\n",
       "  </thead>\n",
       "  <tbody>\n",
       "    <tr>\n",
       "      <th>0</th>\n",
       "      <td>WiTT awards first annual 50% tuition scholarsh...</td>\n",
       "      <td>What is the main subject or theme of this topic?</td>\n",
       "      <td>The main theme revolves around the WiTT awards...</td>\n",
       "    </tr>\n",
       "    <tr>\n",
       "      <th>1</th>\n",
       "      <td>WiTT awards first annual 50% tuition scholarsh...</td>\n",
       "      <td>Who is the target audience for the WiTT awards...</td>\n",
       "      <td>The target audience includes women pursuing ca...</td>\n",
       "    </tr>\n",
       "    <tr>\n",
       "      <th>2</th>\n",
       "      <td>WiTT awards first annual 50% tuition scholarsh...</td>\n",
       "      <td>What is the significance of awarding 50% tuiti...</td>\n",
       "      <td>It helps in reducing financial barriers for wo...</td>\n",
       "    </tr>\n",
       "    <tr>\n",
       "      <th>3</th>\n",
       "      <td>WiTT awards first annual 50% tuition scholarsh...</td>\n",
       "      <td>How does this initiative impact the field of t...</td>\n",
       "      <td>It encourages more women to enter and thrive i...</td>\n",
       "    </tr>\n",
       "    <tr>\n",
       "      <th>4</th>\n",
       "      <td>WiTT awards first annual 50% tuition scholarsh...</td>\n",
       "      <td>What are potential challenges in implementing ...</td>\n",
       "      <td>Challenges could include securing consistent f...</td>\n",
       "    </tr>\n",
       "  </tbody>\n",
       "</table>\n",
       "</div>"
      ],
      "text/plain": [
       "                                               topic  \\\n",
       "0  WiTT awards first annual 50% tuition scholarsh...   \n",
       "1  WiTT awards first annual 50% tuition scholarsh...   \n",
       "2  WiTT awards first annual 50% tuition scholarsh...   \n",
       "3  WiTT awards first annual 50% tuition scholarsh...   \n",
       "4  WiTT awards first annual 50% tuition scholarsh...   \n",
       "\n",
       "                                            question  \\\n",
       "0   What is the main subject or theme of this topic?   \n",
       "1  Who is the target audience for the WiTT awards...   \n",
       "2  What is the significance of awarding 50% tuiti...   \n",
       "3  How does this initiative impact the field of t...   \n",
       "4  What are potential challenges in implementing ...   \n",
       "\n",
       "                                              answer  \n",
       "0  The main theme revolves around the WiTT awards...  \n",
       "1  The target audience includes women pursuing ca...  \n",
       "2  It helps in reducing financial barriers for wo...  \n",
       "3  It encourages more women to enter and thrive i...  \n",
       "4  Challenges could include securing consistent f...  "
      ]
     },
     "execution_count": 2,
     "metadata": {},
     "output_type": "execute_result"
    }
   ],
   "source": [
    "gpt_data = pd.read_parquet(os.path.join(DATA_PATH, '../processed/chat-gpt-qa-pairs.parquet'))\n",
    "gpt_data.columns = ['topic', 'question', 'answer']\n",
    "gpt_data.head()"
   ]
  },
  {
   "cell_type": "code",
   "execution_count": 6,
   "metadata": {},
   "outputs": [
    {
     "data": {
      "application/vnd.jupyter.widget-view+json": {
       "model_id": "378874ea6db849c99cccf1f89dddf599",
       "version_major": 2,
       "version_minor": 0
      },
      "text/plain": [
       "Saving the dataset (0/1 shards):   0%|          | 0/1710 [00:00<?, ? examples/s]"
      ]
     },
     "metadata": {},
     "output_type": "display_data"
    }
   ],
   "source": [
    "# Apply the format_conversation function to each row in gpt_data to create a 'conversations' column\n",
    "gpt_data['conversations'] = gpt_data.apply(format_conversation, axis=1)\n",
    "\n",
    "# Convert the DataFrame to a Hugging Face Dataset object\n",
    "gpt_dataset = Dataset.from_pandas(gpt_data[['conversations']])\n",
    "\n",
    "# Save the dataset to disk\n",
    "gpt_dataset.save_to_disk(os.path.join(DATA_PATH, '../processed/chat-gpt-qa-pairs-instruct.hf'))"
   ]
  },
  {
   "cell_type": "markdown",
   "metadata": {},
   "source": [
    "What did the DSI-SRP fellowship grant Jingyi Chen to work in the laboratory of Christopher Candelaria?<br>\n",
    "The AI model produces novel text that takes form of written correspondence, with style and content consistent with the data source?"
   ]
  },
  {
   "cell_type": "code",
   "execution_count": 7,
   "metadata": {},
   "outputs": [
    {
     "data": {
      "text/plain": [
       "Dataset({\n",
       "    features: ['conversations'],\n",
       "    num_rows: 1710\n",
       "})"
      ]
     },
     "execution_count": 7,
     "metadata": {},
     "output_type": "execute_result"
    }
   ],
   "source": [
    "gpt_dataset"
   ]
  },
  {
   "cell_type": "code",
   "execution_count": 8,
   "metadata": {},
   "outputs": [
    {
     "name": "stdout",
     "output_type": "stream",
     "text": [
      "Train dataset size: 1368\n",
      "Test dataset size: 342\n"
     ]
    }
   ],
   "source": [
    "# Split the dataset into train and test sets\n",
    "split_datasets = gpt_dataset.train_test_split(test_size=0.2, seed=42)\n",
    "\n",
    "# Access the train and test sets\n",
    "train_dataset = split_datasets['train']\n",
    "test_dataset = split_datasets['test']\n",
    "\n",
    "# Display sizes for confirmation\n",
    "print(f\"Train dataset size: {len(train_dataset)}\")\n",
    "print(f\"Test dataset size: {len(test_dataset)}\")"
   ]
  },
  {
   "cell_type": "code",
   "execution_count": 9,
   "metadata": {},
   "outputs": [
    {
     "data": {
      "application/vnd.jupyter.widget-view+json": {
       "model_id": "3cae46237ecb4e62b697c0e039d2e7be",
       "version_major": 2,
       "version_minor": 0
      },
      "text/plain": [
       "Saving the dataset (0/1 shards):   0%|          | 0/1368 [00:00<?, ? examples/s]"
      ]
     },
     "metadata": {},
     "output_type": "display_data"
    },
    {
     "data": {
      "application/vnd.jupyter.widget-view+json": {
       "model_id": "f74c9b6dec544338b62895daafd29ab6",
       "version_major": 2,
       "version_minor": 0
      },
      "text/plain": [
       "Saving the dataset (0/1 shards):   0%|          | 0/342 [00:00<?, ? examples/s]"
      ]
     },
     "metadata": {},
     "output_type": "display_data"
    }
   ],
   "source": [
    "train_dataset.save_to_disk(os.path.join(DATA_PATH, '../processed/chat-gpt-qa-pairs-instruct-train.hf'))\n",
    "test_dataset.save_to_disk(os.path.join(DATA_PATH, '../processed/chat-gpt-qa-pairs-instruct-test.hf'))"
   ]
  },
  {
   "cell_type": "code",
   "execution_count": 11,
   "metadata": {},
   "outputs": [
    {
     "data": {
      "text/html": [
       "<div>\n",
       "<style scoped>\n",
       "    .dataframe tbody tr th:only-of-type {\n",
       "        vertical-align: middle;\n",
       "    }\n",
       "\n",
       "    .dataframe tbody tr th {\n",
       "        vertical-align: top;\n",
       "    }\n",
       "\n",
       "    .dataframe thead th {\n",
       "        text-align: right;\n",
       "    }\n",
       "</style>\n",
       "<table border=\"1\" class=\"dataframe\">\n",
       "  <thead>\n",
       "    <tr style=\"text-align: right;\">\n",
       "      <th></th>\n",
       "      <th>question</th>\n",
       "      <th>answer</th>\n",
       "    </tr>\n",
       "  </thead>\n",
       "  <tbody>\n",
       "    <tr>\n",
       "      <th>0</th>\n",
       "      <td>What is the WiTT Scholarship, and who was its ...</td>\n",
       "      <td>The WiTT Scholarship is a 50% tuition scholars...</td>\n",
       "    </tr>\n",
       "    <tr>\n",
       "      <th>1</th>\n",
       "      <td>What organization partnered with Vanderbilt’s ...</td>\n",
       "      <td>Women in Technology of Tennessee (WiTT) partne...</td>\n",
       "    </tr>\n",
       "    <tr>\n",
       "      <th>2</th>\n",
       "      <td>What motivated Sydney Simmons to pursue a Data...</td>\n",
       "      <td>Her experience in Risk Management at Morgan St...</td>\n",
       "    </tr>\n",
       "    <tr>\n",
       "      <th>3</th>\n",
       "      <td>What are the key pillars of WiTT's mission tha...</td>\n",
       "      <td>Networking and community outreach are key pill...</td>\n",
       "    </tr>\n",
       "    <tr>\n",
       "      <th>4</th>\n",
       "      <td>How has WiTT supported women in technology fie...</td>\n",
       "      <td>WiTT has awarded over $200,000 in scholarships...</td>\n",
       "    </tr>\n",
       "  </tbody>\n",
       "</table>\n",
       "</div>"
      ],
      "text/plain": [
       "                                            question  \\\n",
       "0  What is the WiTT Scholarship, and who was its ...   \n",
       "1  What organization partnered with Vanderbilt’s ...   \n",
       "2  What motivated Sydney Simmons to pursue a Data...   \n",
       "3  What are the key pillars of WiTT's mission tha...   \n",
       "4  How has WiTT supported women in technology fie...   \n",
       "\n",
       "                                              answer  \n",
       "0  The WiTT Scholarship is a 50% tuition scholars...  \n",
       "1  Women in Technology of Tennessee (WiTT) partne...  \n",
       "2  Her experience in Risk Management at Morgan St...  \n",
       "3  Networking and community outreach are key pill...  \n",
       "4  WiTT has awarded over $200,000 in scholarships...  "
      ]
     },
     "execution_count": 11,
     "metadata": {},
     "output_type": "execute_result"
    }
   ],
   "source": [
    "qa_df = pd.read_parquet(os.path.join(DATA_PATH, '../processed/all_topics_questions_answers.parquet'))\n",
    "qa_df.head()"
   ]
  },
  {
   "cell_type": "code",
   "execution_count": null,
   "metadata": {},
   "outputs": [],
   "source": []
  }
 ],
 "metadata": {
  "kernelspec": {
   "display_name": "knowledge-llms",
   "language": "python",
   "name": "python3"
  },
  "language_info": {
   "codemirror_mode": {
    "name": "ipython",
    "version": 3
   },
   "file_extension": ".py",
   "mimetype": "text/x-python",
   "name": "python",
   "nbconvert_exporter": "python",
   "pygments_lexer": "ipython3",
   "version": "3.10.15"
  }
 },
 "nbformat": 4,
 "nbformat_minor": 2
}
